{
 "cells": [
  {
   "cell_type": "code",
   "execution_count": 1,
   "metadata": {},
   "outputs": [],
   "source": [
    "import matplotlib\n",
    "import matplotlib.pyplot as plt\n",
    "import numpy as np"
   ]
  },
  {
   "cell_type": "code",
   "execution_count": 4,
   "metadata": {},
   "outputs": [],
   "source": [
    "labels = ['100', '1.000', '10.000']\n",
    "C_o0 = [0.041, 0.0112, 0.758]\n",
    "C_o1 = [0.036, 0.070, 0.359]\n",
    "C_o2 = [0.039, 0.066, 0.338]\n",
    "C_o3 = [0.032, 0.042, 0.119]\n",
    "MIPS_o0 = [0.038, 0.081, 0.521]"
   ]
  },
  {
   "cell_type": "code",
   "execution_count": 50,
   "metadata": {},
   "outputs": [
    {
     "data": {
      "image/png": "[encoded data removed]",
      "text/plain": [
       "<Figure size 432x288 with 1 Axes>"
      ]
     },
     "metadata": {
      "needs_background": "light"
     },
     "output_type": "display_data"
    }
   ],
   "source": [
    "# set width of bar\n",
    "barWidth = 0.15\n",
    " \n",
    "# Set position of bar on X axis\n",
    "r1 = np.arange(len(C_o0))\n",
    "r2 = [x + barWidth for x in r1]\n",
    "r3 = [x + barWidth for x in r2]\n",
    "r4 = [x + barWidth for x in r3]\n",
    "r5 = [x + barWidth for x in r4]\n",
    "\n",
    "# Make the plot\n",
    "plt.bar(r1, C_o0, width=barWidth, edgecolor='white', label='C_o0')\n",
    "plt.bar(r2, C_o1, width=barWidth, edgecolor='white', label='C_o1')\n",
    "plt.bar(r3, C_o2, width=barWidth, edgecolor='white', label='C_o2')\n",
    "plt.bar(r4, C_o3, width=barWidth, edgecolor='white', label='C_o3')\n",
    "plt.bar(r5, MIPS_o0, width=barWidth, edgecolor='white', label='MIPS_o0')\n",
    " \n",
    "# Add xticks on the middle of the group bars\n",
    "plt.xlabel('Iteraciones', fontweight='bold')\n",
    "plt.xticks([r + barWidth for r in range(len(C_o0))], labels)\n",
    " \n",
    "\n",
    "    \n",
    "# Create legend & Show graphic\n",
    "plt.legend()\n",
    "plt.show()\n"
   ]
  },
  {
   "cell_type": "code",
   "execution_count": null,
   "metadata": {},
   "outputs": [],
   "source": []
  },
  {
   "cell_type": "code",
   "execution_count": null,
   "metadata": {},
   "outputs": [],
   "source": []
  },
  {
   "cell_type": "code",
   "execution_count": null,
   "metadata": {},
   "outputs": [],
   "source": []
  }
 ],
 "metadata": {
  "kernelspec": {
   "display_name": "Python 3",
   "language": "python",
   "name": "python3"
  },
  "language_info": {
   "codemirror_mode": {
    "name": "ipython",
    "version": 3
   },
   "file_extension": ".py",
   "mimetype": "text/x-python",
   "name": "python",
   "nbconvert_exporter": "python",
   "pygments_lexer": "ipython3",
   "version": "3.7.4"
  }
 },
 "nbformat": 4,
 "nbformat_minor": 2
}
